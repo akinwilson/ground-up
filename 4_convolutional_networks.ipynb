{
 "cells": [
  {
   "cell_type": "code",
   "execution_count": 11,
   "metadata": {},
   "outputs": [],
   "source": [
    "import numpy as np \n",
    "import sympy as sy\n",
    "import matplotlib.pyplot as plt\n",
    "\n",
    "from IPython.core.interactiveshell import InteractiveShell\n",
    "import warnings \n",
    "InteractiveShell.ast_node_interactive = \"all\"\n",
    "warnings.filterwarnings(\"ignore\")"
   ]
  },
  {
   "cell_type": "markdown",
   "metadata": {},
   "source": [
    "The convolution between two continous signals over the real number line is given by: "
   ]
  },
  {
   "cell_type": "markdown",
   "metadata": {},
   "source": [
    "\\begin{equation}\n",
    "s(t)= (f * g)(t) = \\int_{-\\infty}^{+\\infty} f(\\tau)g(t-\\tau)d\\tau \n",
    "\\end{equation}"
   ]
  },
  {
   "cell_type": "markdown",
   "metadata": {},
   "source": [
    "For the discrete case, that is where we consider the the domain on the integer number line:"
   ]
  },
  {
   "cell_type": "markdown",
   "metadata": {},
   "source": [
    "\\begin{equation}\n",
    "s(t) = \\sum_{\\tau \\in \\mathbb{Z}} f(\\tau)g(t-\\tau)\n",
    "\\end{equation}"
   ]
  },
  {
   "cell_type": "markdown",
   "metadata": {},
   "source": [
    "In a fully connected dense layer, we have the output of a layer as:"
   ]
  },
  {
   "cell_type": "markdown",
   "metadata": {},
   "source": [
    "\\begin{equation}\n",
    "    y_j = \\phi \\big(\\sum_{i} w_{ji} x_i + b \\big)\n",
    "\\end{equation}\n"
   ]
  },
  {
   "cell_type": "markdown",
   "metadata": {},
   "source": [
    "In a convolutional layer, the output is instead:"
   ]
  },
  {
   "cell_type": "markdown",
   "metadata": {},
   "source": [
    "\\begin{equation}\n",
    "y = \\sum(I * K + b)  \n",
    "\\end{equation}"
   ]
  },
  {
   "cell_type": "markdown",
   "metadata": {},
   "source": [
    "Here:\n",
    "I is the input _feature map_ <br>\n",
    "K is the _kernel_ <br>\n",
    "b is the _additive bias_ <br>\n",
    "and we sum over all convolution of our feature map and kernel. "
   ]
  },
  {
   "cell_type": "markdown",
   "metadata": {},
   "source": [
    "consider the following example: <br>\n",
    "An input feature map, I, of dimensions (4 x 4 x 1); a **single channel**<br>\n",
    "And a Kernel, K, of dimensions (3 x 3 x 1 x 1); a **single filter**"
   ]
  },
  {
   "cell_type": "code",
   "execution_count": 16,
   "metadata": {},
   "outputs": [
    {
     "name": "stdout",
     "output_type": "stream",
     "text": [
      "Input feature map, I:\n"
     ]
    },
    {
     "data": {
      "text/latex": [
       "$\\displaystyle \\left[\\begin{matrix}0 & 1 & 2 & 8\\\\5 & 2 & 9 & 2\\\\3 & 6 & 1 & 0\\\\2 & 4 & 9 & 6\\end{matrix}\\right]$"
      ],
      "text/plain": [
       "Matrix([\n",
       "[0, 1, 2, 8],\n",
       "[5, 2, 9, 2],\n",
       "[3, 6, 1, 0],\n",
       "[2, 4, 9, 6]])"
      ]
     },
     "execution_count": 16,
     "metadata": {},
     "output_type": "execute_result"
    }
   ],
   "source": [
    "I = sy.Matrix([ [0,1,2,8],\n",
    "                [5,2,9,2],\n",
    "                [3,6,1,0],\n",
    "                [2,4,9,6]])\n",
    "print(\"Input feature map, I:\")\n",
    "I"
   ]
  },
  {
   "cell_type": "code",
   "execution_count": 19,
   "metadata": {},
   "outputs": [
    {
     "name": "stdout",
     "output_type": "stream",
     "text": [
      "Kernel, K:\n"
     ]
    },
    {
     "data": {
      "text/latex": [
       "$\\displaystyle \\left[\\begin{matrix}1 & 5 & 2\\\\2 & 7 & 3\\\\2 & 0 & 2\\end{matrix}\\right]$"
      ],
      "text/plain": [
       "Matrix([\n",
       "[1, 5, 2],\n",
       "[2, 7, 3],\n",
       "[2, 0, 2]])"
      ]
     },
     "execution_count": 19,
     "metadata": {},
     "output_type": "execute_result"
    }
   ],
   "source": [
    "K = sy.Matrix( [ [1,5,2],\n",
    "                [2,7,3], \n",
    "               [2,0,2] ] )\n",
    "print(\"Kernel, K:\")\n",
    "K"
   ]
  },
  {
   "cell_type": "markdown",
   "metadata": {},
   "source": [
    "Instead of sweeping with our kernel K across the in input feature map I, lets reshape I into a long vector:"
   ]
  },
  {
   "cell_type": "code",
   "execution_count": 24,
   "metadata": {},
   "outputs": [
    {
     "name": "stdout",
     "output_type": "stream",
     "text": [
      "Reshaped into feature map: \n"
     ]
    },
    {
     "data": {
      "text/latex": [
       "$\\displaystyle \\left[\\begin{matrix}0\\\\1\\\\2\\\\8\\\\5\\\\2\\\\9\\\\2\\\\3\\\\6\\\\1\\\\0\\\\2\\\\4\\\\9\\\\6\\end{matrix}\\right]$"
      ],
      "text/plain": [
       "Matrix([\n",
       "[0],\n",
       "[1],\n",
       "[2],\n",
       "[8],\n",
       "[5],\n",
       "[2],\n",
       "[9],\n",
       "[2],\n",
       "[3],\n",
       "[6],\n",
       "[1],\n",
       "[0],\n",
       "[2],\n",
       "[4],\n",
       "[9],\n",
       "[6]])"
      ]
     },
     "execution_count": 24,
     "metadata": {},
     "output_type": "execute_result"
    }
   ],
   "source": [
    "I_r = sy.Matrix(np.array(I).reshape(-1))\n",
    "print(\"Reshaped into feature map: \")\n",
    "I_r"
   ]
  },
  {
   "cell_type": "code",
   "execution_count": 58,
   "metadata": {},
   "outputs": [
    {
     "data": {
      "text/latex": [
       "$\\displaystyle \\left[\\begin{array}{cccccccccccccccc}1 & 5 & 2 & 2 & 7 & 3 & 2 & 0 & 2 & 0 & 0 & 0 & 0 & 0 & 0 & 0\\\\0 & 1 & 5 & 2 & 2 & 7 & 3 & 2 & 0 & 2 & 0 & 0 & 0 & 0 & 0 & 0\\\\0 & 0 & 0 & 0 & 0 & 0 & 1 & 5 & 2 & 2 & 7 & 3 & 2 & 0 & 2 & 0\\\\0 & 0 & 0 & 0 & 0 & 0 & 0 & 1 & 5 & 2 & 2 & 7 & 3 & 2 & 0 & 2\\end{array}\\right]$"
      ],
      "text/plain": [
       "Matrix([\n",
       "[1, 5, 2, 2, 7, 3, 2, 0, 2, 0, 0, 0, 0, 0, 0, 0],\n",
       "[0, 1, 5, 2, 2, 7, 3, 2, 0, 2, 0, 0, 0, 0, 0, 0],\n",
       "[0, 0, 0, 0, 0, 0, 1, 5, 2, 2, 7, 3, 2, 0, 2, 0],\n",
       "[0, 0, 0, 0, 0, 0, 0, 1, 5, 2, 2, 7, 3, 2, 0, 2]])"
      ]
     },
     "execution_count": 58,
     "metadata": {},
     "output_type": "execute_result"
    }
   ],
   "source": [
    "def unroll_kernel(K, unrolled_length, num_steps):\n",
    "    rows = []\n",
    "    K_size = np.array(K).reshape(-1).shape[0]\n",
    "    unrolled_length_var = unrolled_length\n",
    "    i = 0\n",
    "    for idx,row in enumerate(range(num_steps)):\n",
    "        if idx <= 1:\n",
    "            rows.append(\n",
    "                np.hstack(\n",
    "                (np.zeros(idx, dtype=\"int\"),\n",
    "                 np.array(K).reshape(-1),\n",
    "                 np.zeros(unrolled_length - K_size - idx , dtype=\"int\"))\n",
    "            ))\n",
    "        else:\n",
    "            i+=1\n",
    "            if idx == 3:\n",
    "                i+=1\n",
    "            rows.append(\n",
    "                np.hstack(\n",
    "                (np.zeros(unrolled_length - K_size - idx + i , dtype=\"int\"),\n",
    "                 np.array(K).reshape(-1),\n",
    "                 np.zeros(idx-i, dtype=\"int\") )\n",
    "                 ))\n",
    "    return np.vstack(rows)\n",
    "sy.Matrix(unroll_kernel(K, 16, 4))\n",
    "    \n"
   ]
  },
  {
   "cell_type": "code",
   "execution_count": 29,
   "metadata": {},
   "outputs": [
    {
     "data": {
      "text/plain": [
       "(12,)"
      ]
     },
     "execution_count": 29,
     "metadata": {},
     "output_type": "execute_result"
    }
   ],
   "source": [
    "np.hstack((np.array(K).reshape(-1), np.zeros(3, dtype=\"int\"))).shape"
   ]
  },
  {
   "cell_type": "code",
   "execution_count": null,
   "metadata": {},
   "outputs": [],
   "source": []
  },
  {
   "cell_type": "code",
   "execution_count": null,
   "metadata": {},
   "outputs": [],
   "source": []
  },
  {
   "cell_type": "code",
   "execution_count": null,
   "metadata": {},
   "outputs": [],
   "source": [
    "\\begin{equation}\n",
    "\\end{equation}"
   ]
  }
 ],
 "metadata": {
  "kernelspec": {
   "display_name": "ground-up-Awl4p5GG",
   "language": "python",
   "name": "ground-up-awl4p5gg"
  },
  "language_info": {
   "codemirror_mode": {
    "name": "ipython",
    "version": 3
   },
   "file_extension": ".py",
   "mimetype": "text/x-python",
   "name": "python",
   "nbconvert_exporter": "python",
   "pygments_lexer": "ipython3",
   "version": "3.8.2"
  }
 },
 "nbformat": 4,
 "nbformat_minor": 4
}
