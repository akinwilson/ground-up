{
 "cells": [
  {
   "cell_type": "markdown",
   "metadata": {},
   "source": [
    "So far, we have use a mixture of libraries: numpy, scipy and matplotlib to build, training and analyse our models. \n",
    "\n",
    "Tensorflow and Pytorch deep learning frameworks which do much of the heavy lifting. E.g. we do not need to implement our own optimisation routine with these frameworks. Much boilerplat code is also available in there respective ecosystems \n",
    "\n",
    "Generally speaking, Pytorch lends itself well to apply DL to Natural Langauge Processing whereas Tensorflow is more suited for computer vision and non-euclidean data structures; social network graphs etc. "
   ]
  },
  {
   "cell_type": "code",
   "execution_count": 1,
   "metadata": {},
   "outputs": [
    {
     "name": "stderr",
     "output_type": "stream",
     "text": [
      "2022-03-21 13:43:37.522641: W tensorflow/stream_executor/platform/default/dso_loader.cc:64] Could not load dynamic library 'libcudart.so.11.0'; dlerror: libcudart.so.11.0: cannot open shared object file: No such file or directory\n",
      "2022-03-21 13:43:37.522660: I tensorflow/stream_executor/cuda/cudart_stub.cc:29] Ignore above cudart dlerror if you do not have a GPU set up on your machine.\n"
     ]
    }
   ],
   "source": [
    "import tensorflow as tf \n",
    "from tensorflow import keras \n",
    "from tensorflow.keras import layers \n",
    "import matplotlib.pyplot as plt\n",
    "import warnings\n",
    "from IPython.core.interactiveshell import InteractiveShell\n",
    "warnings.filterwarnings('ignore')\n",
    "InteractiveShell.ast_node_interactivity = \"all\""
   ]
  },
  {
   "cell_type": "markdown",
   "metadata": {},
   "source": [
    "We will use the **functional API** of Keras; Tensorflow's  medium to high level API for building computational graphs. \n",
    "\n",
    "**NOTE**\n",
    "If I were you I would avoid using the *sequential* method for constructing the graphs in Keras. Instead use the functional API. \n",
    "\n",
    "_Why?_ \n",
    "\n",
    "You may want to add inputs into a network that are inputted **after** the first layer; you cannot do this with the [sequential class](https://keras.io/api/models/sequential/). Hence, use the [functional one](https://keras.io/guides/functional_api/)"
   ]
  },
  {
   "cell_type": "code",
   "execution_count": 17,
   "metadata": {},
   "outputs": [
    {
     "data": {
      "image/png": "[encoded data removed]",
      "text/plain": [
       "<IPython.core.display.Image object>"
      ]
     },
     "execution_count": 17,
     "metadata": {},
     "output_type": "execute_result"
    }
   ],
   "source": [
    "def model_construction(model_name=\"XOR_Gate_model\"):\n",
    "    input_nodes = keras.Input(shape=(2,), name=\"binary_value\")\n",
    "    dense_layer = layers.Dense(units=2, activation=\"relu\", name=\"hidden_layer\")\n",
    "    output_layer = layers.Dense(units=1, activation=\"relu\", name=\"output_layer\")\n",
    "       \n",
    "    outputs = output_layer(dense_layer(input_nodes))\n",
    " \n",
    "    return keras.Model(inputs=input_nodes,\n",
    "                       outputs=outputs,\n",
    "                       name=model_name)\n",
    "\n",
    "model = model_construction()\n",
    "model_name=\"XOR_Gate_model\"\n",
    "keras.utils.plot_model(model,\n",
    "                       f\"media/{model_name}_diagram.png\",\n",
    "                      show_shapes=True)\n",
    "    \n"
   ]
  },
  {
   "cell_type": "code",
   "execution_count": 16,
   "metadata": {},
   "outputs": [
    {
     "data": {
      "text/plain": [
       "<tf.Tensor: shape=(4, 1), dtype=float32, numpy=\n",
       "array([[0.00182204],\n",
       "       [0.        ],\n",
       "       [0.        ],\n",
       "       [0.        ]], dtype=float32)>"
      ]
     },
     "execution_count": 16,
     "metadata": {},
     "output_type": "execute_result"
    }
   ],
   "source": []
  },
  {
   "cell_type": "code",
   "execution_count": 11,
   "metadata": {},
   "outputs": [],
   "source": [
    "keras.utils.plot_model?"
   ]
  },
  {
   "cell_type": "code",
   "execution_count": 7,
   "metadata": {},
   "outputs": [],
   "source": [
    "layers.Dense?"
   ]
  },
  {
   "cell_type": "code",
   "execution_count": null,
   "metadata": {},
   "outputs": [],
   "source": []
  },
  {
   "cell_type": "code",
   "execution_count": null,
   "metadata": {},
   "outputs": [],
   "source": []
  },
  {
   "cell_type": "code",
   "execution_count": null,
   "metadata": {},
   "outputs": [],
   "source": []
  }
 ],
 "metadata": {
  "kernelspec": {
   "display_name": "ground-up-Awl4p5GG",
   "language": "python",
   "name": "ground-up-awl4p5gg"
  },
  "language_info": {
   "codemirror_mode": {
    "name": "ipython",
    "version": 3
   },
   "file_extension": ".py",
   "mimetype": "text/x-python",
   "name": "python",
   "nbconvert_exporter": "python",
   "pygments_lexer": "ipython3",
   "version": "3.8.2"
  }
 },
 "nbformat": 4,
 "nbformat_minor": 4
}
