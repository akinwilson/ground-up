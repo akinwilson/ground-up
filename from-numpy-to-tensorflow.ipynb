{
 "cells": [
  {
   "cell_type": "markdown",
   "metadata": {},
   "source": [
    "So far, we have use a mixture of libraries: numpy, scipy and matplotlib to build, training and analyse our models. \n",
    "\n",
    "Tensorflow and Pytorch deep learning frameworks which do much of the heavy lifting. E.g. we do not need to implement our own optimisation routine with these frameworks. Much boilerplat code is also available in there respective ecosystems \n",
    "\n",
    "Generally speaking, Pytorch lends itself well to apply DL to Natural Langauge Processing whereas Tensorflow is more suited for computer vision and non-euclidean data structures; social network graphs etc. "
   ]
  },
  {
   "cell_type": "code",
   "execution_count": 3,
   "metadata": {},
   "outputs": [],
   "source": [
    "import tensorflow as tf \n",
    "from tensorflow import keras \n",
    "from tensorflow.keras import layers \n",
    "import matplotlib.pyplot as plt"
   ]
  },
  {
   "cell_type": "markdown",
   "metadata": {},
   "source": [
    "We will use the **functional API** of Keras; Tensorflow's  "
   ]
  },
  {
   "cell_type": "code",
   "execution_count": 11,
   "metadata": {},
   "outputs": [
    {
     "name": "stdout",
     "output_type": "stream",
     "text": [
      "Model: \"XOR_Gate_model\"\n",
      "_________________________________________________________________\n",
      " Layer (type)                Output Shape              Param #   \n",
      "=================================================================\n",
      " binary_value (InputLayer)   [(None, 2)]               0         \n",
      "                                                                 \n",
      " dense_6 (Dense)             (None, 2)                 6         \n",
      "                                                                 \n",
      " dense_7 (Dense)             (None, 1)                 3         \n",
      "                                                                 \n",
      "=================================================================\n",
      "Total params: 9\n",
      "Trainable params: 9\n",
      "Non-trainable params: 0\n",
      "_________________________________________________________________\n"
     ]
    }
   ],
   "source": [
    "def model():\n",
    "    input_nodes = keras.Input(shape=(2,), name=\"binary_value\")\n",
    "    dense_layer = layers.Dense(2, activation=\"relu\")\n",
    "    output_layer = layers.Dense(1, activation=\"relu\")\n",
    "       \n",
    "    outputs = output_layer(dense_layer(input_nodes))\n",
    " \n",
    "    return keras.Model(inputs=input_nodes,\n",
    "                       outputs=outputs,\n",
    "                       name=\"XOR_Gate_model\")\n",
    "\n",
    "    \n",
    "model().summary()"
   ]
  },
  {
   "cell_type": "code",
   "execution_count": null,
   "metadata": {},
   "outputs": [],
   "source": []
  },
  {
   "cell_type": "code",
   "execution_count": null,
   "metadata": {},
   "outputs": [],
   "source": []
  },
  {
   "cell_type": "code",
   "execution_count": null,
   "metadata": {},
   "outputs": [],
   "source": []
  },
  {
   "cell_type": "code",
   "execution_count": null,
   "metadata": {},
   "outputs": [],
   "source": []
  },
  {
   "cell_type": "code",
   "execution_count": null,
   "metadata": {},
   "outputs": [],
   "source": []
  }
 ],
 "metadata": {
  "kernelspec": {
   "display_name": "ground-up-Awl4p5GG",
   "language": "python",
   "name": "ground-up-awl4p5gg"
  },
  "language_info": {
   "codemirror_mode": {
    "name": "ipython",
    "version": 3
   },
   "file_extension": ".py",
   "mimetype": "text/x-python",
   "name": "python",
   "nbconvert_exporter": "python",
   "pygments_lexer": "ipython3",
   "version": "3.8.2"
  }
 },
 "nbformat": 4,
 "nbformat_minor": 4
}
