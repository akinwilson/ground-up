{
 "cells": [
  {
   "cell_type": "code",
   "execution_count": 1,
   "metadata": {},
   "outputs": [],
   "source": [
    "import sympy as sy\n",
    "import scipy as sp\n",
    "from scipy import optimize as opt\n",
    "import numpy as np\n",
    "import warnings\n",
    "import matplotlib.pyplot as plt\n",
    "import matplotlib.patches as mpatches\n",
    "from IPython.core.interactiveshell import InteractiveShell\n",
    "warnings.filterwarnings('ignore')\n",
    "InteractiveShell.ast_node_interactivity = \"all\""
   ]
  },
  {
   "cell_type": "markdown",
   "metadata": {},
   "source": [
    "## Cann a linear model learn the AND and XOR functions?"
   ]
  },
  {
   "cell_type": "markdown",
   "metadata": {},
   "source": [
    "\\begin{equation}\n",
    "X = \\begin{bmatrix}\n",
    "1 & 1 & 1\\\\\n",
    "1 & 1 & 0\\\\\n",
    "1 & 0 & 1\\\\\n",
    "1 & 0 & 0\\\\\n",
    "\\end{bmatrix},\n",
    "y_{and} = \\begin{bmatrix}\n",
    "1 \\\\\n",
    "0 \\\\\n",
    "0 \\\\\n",
    "0 \\\\ \\end{bmatrix}\n",
    "\\end{equation}\n",
    "\n",
    "\\begin{equation}\n",
    "X = \\begin{bmatrix}\n",
    "1 & 1 & 1\\\\\n",
    "1 & 1 & 0\\\\\n",
    "1 & 0 & 1\\\\\n",
    "1 & 0 & 0\\\\\n",
    "\\end{bmatrix},\n",
    "y_{xor} = \\begin{bmatrix}\n",
    "0 \\\\\n",
    "1 \\\\\n",
    "1 \\\\\n",
    "0 \\\\ \\end{bmatrix}\n",
    "\\end{equation}"
   ]
  },
  {
   "cell_type": "markdown",
   "metadata": {},
   "source": [
    "Will use mean squared error for now, but notice binary ouput should be measured with binary cross entropy"
   ]
  },
  {
   "cell_type": "code",
   "execution_count": 2,
   "metadata": {},
   "outputs": [],
   "source": [
    "X = sy.Matrix([[1,1,1],\n",
    "               [1,1,0],\n",
    "               [1,0,1],\n",
    "               [1,0,0]])\n",
    "y_xor = sy.Matrix([[0],\n",
    "                   [1],\n",
    "                   [1],\n",
    "                   [0]])\n",
    "y_and = sy.Matrix([[1],\n",
    "                   [0],\n",
    "                   [0],\n",
    "                   [0]])\n",
    "w1,w2,w3 = sy.symbols(\"w_1,w_2,w_3\")\n",
    "w_xor = sy.Matrix([[w1],[w2],[w3]])"
   ]
  },
  {
   "cell_type": "markdown",
   "metadata": {},
   "source": [
    "The assumed model is then:"
   ]
  },
  {
   "cell_type": "markdown",
   "metadata": {},
   "source": [
    "\\begin{equation}\n",
    "Xw = \\begin{bmatrix}\n",
    "1 & 1 & 1\\\\\n",
    "1 & 1 & 0\\\\\n",
    "1 & 0 & 1\\\\\n",
    "1 & 0 & 0\\\\\n",
    "\\end{bmatrix} \n",
    "\\begin{bmatrix}\n",
    "w_1 \\\\\n",
    "w_2 \\\\\n",
    "w_3 \\\\ \\end{bmatrix} =y\n",
    "\\end{equation}"
   ]
  },
  {
   "cell_type": "markdown",
   "metadata": {},
   "source": [
    "defining cost function for linear model:"
   ]
  },
  {
   "cell_type": "code",
   "execution_count": 3,
   "metadata": {},
   "outputs": [
    {
     "name": "stdout",
     "output_type": "stream",
     "text": [
      "********** Gate: AND **********\n",
      "True:\n",
      " Matrix([[1], [0], [0], [0]])\n",
      "Pred:\n",
      " Matrix([[0.499999998947900], [0.249999995373210], [0.249999995373210], [-8.20147927349524e-9]])\n",
      "\n",
      "\n",
      "********** Gate: XOR **********\n",
      "True:\n",
      " Matrix([[0], [1], [1], [0]])\n",
      "Pred:\n",
      " Matrix([[0.833333337170653], [0.500000001636226], [0.500000001636226], [0.166666666101800]])\n",
      "\n",
      "\n"
     ]
    }
   ],
   "source": [
    "def J(w,X, Y):\n",
    "    '''Cost function for linear model with mean squared errror loss function'''\n",
    "    m = (1/4 * (X@w -Y).T @ (X@w - Y)).mean(0) \n",
    "    return sum(m) /len(m)\n",
    "\n",
    "\n",
    "def opts(J,w0, X,Y):\n",
    "    return opt.minimize(J, w0, args=(X,Y))\n",
    "\n",
    "\n",
    "def predictor(x,w_s):\n",
    "    return X@w_s\n",
    "\n",
    "def results(y, fixed_init=True):\n",
    "    w0_r = np.random.uniform(low=0.0, high=1.0, size=(3,1))\n",
    "    w0_f = np.array([[1/2],\n",
    "                     [1/2],\n",
    "                     [1/2]])\n",
    "    w0 = w0_f if fixed_init else w0_r\n",
    "    res = opts(J,\n",
    "             w0,\n",
    "             np.array(X).astype(np.float),\n",
    "             np.array(y).astype(np.float))\n",
    "    y_hat = predictor(X,res.x)\n",
    "    print(\"True:\\n\", y)\n",
    "    print(\"Pred:\\n\", sy.Matrix(y_hat))\n",
    "    print(\"\\n\")\n",
    "    return np.vstack( (np.array(y)[:,0],y_hat) ).T\n",
    "\n",
    "    \n",
    "labels_preds = []\n",
    "for gate,y in zip([\"AND\",\"XOR\"],[y_and, y_xor]):\n",
    "    print(\"*\"*10,\"Gate:\", gate,\"*\"*10)\n",
    "    labels_preds.append(results(y))\n",
    "    \n",
    "gate_results = list(zip([\"AND\",\"XOR\"],labels_preds))"
   ]
  },
  {
   "cell_type": "markdown",
   "metadata": {},
   "source": [
    "## Notice!\n",
    "No matter how you initialise the optimization process, the XOR function will always not be linearly separable, and hence it can not be modelled with a shallow network. "
   ]
  },
  {
   "cell_type": "code",
   "execution_count": 4,
   "metadata": {},
   "outputs": [],
   "source": [
    "InteractiveShell.ast_node_interactivity = \"last\""
   ]
  },
  {
   "cell_type": "code",
   "execution_count": 7,
   "metadata": {},
   "outputs": [
    {
     "name": "stderr",
     "output_type": "stream",
     "text": [
      "No artists with labels found to put in legend.  Note that artists whose label start with an underscore are ignored when legend() is called with no argument.\n",
      "No artists with labels found to put in legend.  Note that artists whose label start with an underscore are ignored when legend() is called with no argument.\n"
     ]
    },
    {
     "data": {
      "text/plain": [
       "<matplotlib.legend.Legend at 0x7ff846b4ff40>"
      ]
     },
     "execution_count": 7,
     "metadata": {},
     "output_type": "execute_result"
    },
    {
     "data": {
      "image/png": "[encoded data removed]",
      "text/plain": [
       "<Figure size 432x864 with 2 Axes>"
      ]
     },
     "metadata": {
      "needs_background": "light"
     },
     "output_type": "display_data"
    }
   ],
   "source": [
    "import matplotlib.pyplot as plt\n",
    "fig, axes = plt.subplots(1,2,figsize=(6,12))\n",
    "\n",
    "for ax_id, gate_result in enumerate(gate_results):\n",
    "    axes[ax_id].set_title(f\"{gate_result[0]} Gate\",pad=14, fontsize=22)\n",
    "    for (label,output) in gate_result[1]:\n",
    "        c = \"blue\" if bool(label) else \"red\"\n",
    "        axes[ax_id].scatter(x=0, y=output, s=80, c=c) \n",
    "     \n",
    "    axes[ax_id].spines['left'].set_position(('data', 0))\n",
    "    axes[ax_id].spines['top'].set_visible(False)\n",
    "    axes[ax_id].spines['right'].set_visible(False)\n",
    "    axes[ax_id].spines['bottom'].set_visible(False)\n",
    "    axes[ax_id].yaxis.get_major_ticks()[0].label1.set_visible(False)\n",
    "    axes[ax_id].get_xaxis().set_visible(False)\n",
    "    axes[ax_id].set_ylim([-0.01, 1])\n",
    "    axes[ax_id].legend(loc=\"upper right\")\n",
    "    \n",
    "red_patch = mpatches.Patch(color='red', label='0')\n",
    "blue_patch = mpatches.Patch(color='blue', label='1')\n",
    "plt.legend(handles=[red_patch, blue_patch])"
   ]
  },
  {
   "cell_type": "markdown",
   "metadata": {},
   "source": [
    "I can always cut the axis (and create a _decision boundary_) such that the two different labels (blue and red) appear on one side of the _decision boundary_ for our linear model of the __AND Gate__. I cannot do the same with the linear model of the __XOR Gate__; the model does not produce a linearly separable space on which we can parition the labels. "
   ]
  }
 ],
 "metadata": {
  "kernelspec": {
   "display_name": "ground-up-Awl4p5GG",
   "language": "python",
   "name": "ground-up-awl4p5gg"
  },
  "language_info": {
   "codemirror_mode": {
    "name": "ipython",
    "version": 3
   },
   "file_extension": ".py",
   "mimetype": "text/x-python",
   "name": "python",
   "nbconvert_exporter": "python",
   "pygments_lexer": "ipython3",
   "version": "3.8.2"
  }
 },
 "nbformat": 4,
 "nbformat_minor": 4
}
